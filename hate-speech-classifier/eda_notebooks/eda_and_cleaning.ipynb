{
 "cells": [
  {
   "cell_type": "code",
   "execution_count": 1,
   "metadata": {
    "collapsed": false,
    "deletable": true,
    "editable": true
   },
   "outputs": [],
   "source": [
    "import pandas as pd\n",
    "import matplotlib.pyplot as plt\n",
    "import numpy as np\n",
    "\n",
    "%matplotlib inline"
   ]
  },
  {
   "cell_type": "code",
   "execution_count": 2,
   "metadata": {
    "collapsed": true,
    "deletable": true,
    "editable": true
   },
   "outputs": [],
   "source": [
    "tweet_df = pd.read_csv('../data/labeled-twitter-hate-speech.csv')"
   ]
  },
  {
   "cell_type": "markdown",
   "metadata": {
    "deletable": true,
    "editable": true
   },
   "source": [
    "## Exploring the Data Structure"
   ]
  },
  {
   "cell_type": "code",
   "execution_count": 3,
   "metadata": {
    "collapsed": false,
    "deletable": true,
    "editable": true
   },
   "outputs": [
    {
     "data": {
      "text/plain": [
       "Index([u'_unit_id', u'_golden', u'_unit_state', u'_trusted_judgments',\n",
       "       u'_last_judgment_at', u'does_this_tweet_contain_hate_speech',\n",
       "       u'does_this_tweet_contain_hate_speech:confidence', u'_created_at',\n",
       "       u'orig__golden', u'orig__last_judgment_at', u'orig__trusted_judgments',\n",
       "       u'orig__unit_id', u'orig__unit_state', u'_updated_at',\n",
       "       u'orig_does_this_tweet_contain_hate_speech',\n",
       "       u'does_this_tweet_contain_hate_speech_gold',\n",
       "       u'does_this_tweet_contain_hate_speech_gold_reason',\n",
       "       u'does_this_tweet_contain_hate_speechconfidence', u'tweet_id',\n",
       "       u'tweet_text'],\n",
       "      dtype='object')"
      ]
     },
     "execution_count": 3,
     "metadata": {},
     "output_type": "execute_result"
    }
   ],
   "source": [
    "tweet_df.columns"
   ]
  },
  {
   "cell_type": "code",
   "execution_count": 6,
   "metadata": {
    "collapsed": false
   },
   "outputs": [
    {
     "name": "stdout",
     "output_type": "stream",
     "text": [
      "<class 'pandas.core.frame.DataFrame'>\n",
      "RangeIndex: 14509 entries, 0 to 14508\n",
      "Data columns (total 20 columns):\n",
      "_unit_id                                           14509 non-null int64\n",
      "_golden                                            14509 non-null bool\n",
      "_unit_state                                        14509 non-null object\n",
      "_trusted_judgments                                 14509 non-null int64\n",
      "_last_judgment_at                                  14442 non-null object\n",
      "does_this_tweet_contain_hate_speech                14509 non-null object\n",
      "does_this_tweet_contain_hate_speech:confidence     14509 non-null float64\n",
      "_created_at                                        0 non-null float64\n",
      "orig__golden                                       67 non-null object\n",
      "orig__last_judgment_at                             0 non-null float64\n",
      "orig__trusted_judgments                            67 non-null float64\n",
      "orig__unit_id                                      67 non-null float64\n",
      "orig__unit_state                                   67 non-null object\n",
      "_updated_at                                        0 non-null float64\n",
      "orig_does_this_tweet_contain_hate_speech           67 non-null object\n",
      "does_this_tweet_contain_hate_speech_gold           67 non-null object\n",
      "does_this_tweet_contain_hate_speech_gold_reason    0 non-null float64\n",
      "does_this_tweet_contain_hate_speechconfidence      67 non-null float64\n",
      "tweet_id                                           14509 non-null float64\n",
      "tweet_text                                         14509 non-null object\n",
      "dtypes: bool(1), float64(9), int64(2), object(8)\n",
      "memory usage: 2.1+ MB\n"
     ]
    }
   ],
   "source": [
    "tweet_df.info()"
   ]
  },
  {
   "cell_type": "markdown",
   "metadata": {},
   "source": [
    "## Insights into Data Structure\n",
    "\n",
    "Many of the columns have too many null values to be useful so we'll have to drop them. Curious what the `gold` designation means, though, so let's explore that."
   ]
  },
  {
   "cell_type": "code",
   "execution_count": 4,
   "metadata": {
    "collapsed": false,
    "deletable": true,
    "editable": true
   },
   "outputs": [
    {
     "data": {
      "text/plain": [
       "array([True, nan], dtype=object)"
      ]
     },
     "execution_count": 4,
     "metadata": {},
     "output_type": "execute_result"
    }
   ],
   "source": [
    "tweet_df.orig__golden.unique()"
   ]
  },
  {
   "cell_type": "code",
   "execution_count": 8,
   "metadata": {
    "collapsed": false,
    "deletable": true,
    "editable": true
   },
   "outputs": [
    {
     "data": {
      "text/plain": [
       "True    67\n",
       "Name: orig__golden, dtype: int64"
      ]
     },
     "execution_count": 8,
     "metadata": {},
     "output_type": "execute_result"
    }
   ],
   "source": [
    "tweet_df.orig__golden.value_counts()"
   ]
  },
  {
   "cell_type": "code",
   "execution_count": 12,
   "metadata": {
    "collapsed": true,
    "deletable": true,
    "editable": true
   },
   "outputs": [],
   "source": [
    "golden_df = tweet_df[tweet_df['orig__golden'] == True]"
   ]
  },
  {
   "cell_type": "code",
   "execution_count": 13,
   "metadata": {
    "collapsed": false,
    "deletable": true,
    "editable": true
   },
   "outputs": [
    {
     "data": {
      "text/plain": [
       "The tweet uses offensive language but not hate speech    29\n",
       "The tweet is not offensive                               21\n",
       "The tweet contains hate speech                           17\n",
       "Name: does_this_tweet_contain_hate_speech, dtype: int64"
      ]
     },
     "execution_count": 13,
     "metadata": {},
     "output_type": "execute_result"
    }
   ],
   "source": [
    "golden_df.does_this_tweet_contain_hate_speech.value_counts()"
   ]
  },
  {
   "cell_type": "code",
   "execution_count": 14,
   "metadata": {
    "collapsed": false,
    "deletable": true,
    "editable": true
   },
   "outputs": [
    {
     "data": {
      "text/plain": [
       "91    8\n",
       "93    7\n",
       "90    7\n",
       "88    7\n",
       "94    6\n",
       "92    6\n",
       "95    5\n",
       "89    5\n",
       "87    5\n",
       "98    3\n",
       "86    3\n",
       "96    2\n",
       "97    1\n",
       "85    1\n",
       "84    1\n",
       "Name: _trusted_judgments, dtype: int64"
      ]
     },
     "execution_count": 14,
     "metadata": {},
     "output_type": "execute_result"
    }
   ],
   "source": [
    "golden_df._trusted_judgments.value_counts()"
   ]
  },
  {
   "cell_type": "markdown",
   "metadata": {
    "deletable": true,
    "editable": true
   },
   "source": [
    "## Golden Tweets\n",
    "\n",
    "Determined that `golden` tweets represent tweets reviewed by a large number of users who reached a consensus. Unfortunately, this is not data that we will have when ingesting new tweets from the Twitter streaming API, so we'll have to drop them (and all other features relating to the contributors who labeled)."
   ]
  },
  {
   "cell_type": "markdown",
   "metadata": {
    "deletable": true,
    "editable": true
   },
   "source": [
    "## Cleaning Data for Analysis\n",
    "\n",
    "Building a table that contains only the tweet text and the labels to allow focus on the feature engineering and modeling. "
   ]
  },
  {
   "cell_type": "code",
   "execution_count": 15,
   "metadata": {
    "collapsed": true,
    "deletable": true,
    "editable": true
   },
   "outputs": [],
   "source": [
    "tweet_df.rename(columns={'does_this_tweet_contain_hate_speech':'labels'}, inplace=True)"
   ]
  },
  {
   "cell_type": "code",
   "execution_count": 18,
   "metadata": {
    "collapsed": false,
    "deletable": true,
    "editable": true
   },
   "outputs": [],
   "source": [
    "labels_text_only_cols = ['labels', 'tweet_text']"
   ]
  },
  {
   "cell_type": "code",
   "execution_count": 19,
   "metadata": {
    "collapsed": false,
    "deletable": true,
    "editable": true
   },
   "outputs": [],
   "source": [
    "labels_text_only_df = tweet_df.copy()[labels_text_only_cols]"
   ]
  },
  {
   "cell_type": "code",
   "execution_count": 21,
   "metadata": {
    "collapsed": false,
    "deletable": true,
    "editable": true
   },
   "outputs": [
    {
     "data": {
      "text/plain": [
       "The tweet is not offensive                               7274\n",
       "The tweet uses offensive language but not hate speech    4836\n",
       "The tweet contains hate speech                           2399\n",
       "Name: labels, dtype: int64"
      ]
     },
     "execution_count": 21,
     "metadata": {},
     "output_type": "execute_result"
    }
   ],
   "source": [
    "labels_text_only_df['labels'].value_counts()"
   ]
  },
  {
   "cell_type": "code",
   "execution_count": 22,
   "metadata": {
    "collapsed": false,
    "deletable": true,
    "editable": true
   },
   "outputs": [],
   "source": [
    "def convert_labels(row):\n",
    "    if row == 'The tweet is not offensive':\n",
    "        return 'not offensive'\n",
    "    elif row == 'The tweet uses offensive language but not hate speech':\n",
    "        return 'offensive'\n",
    "    else:\n",
    "        return 'hate'"
   ]
  },
  {
   "cell_type": "code",
   "execution_count": 24,
   "metadata": {
    "collapsed": false,
    "deletable": true,
    "editable": true
   },
   "outputs": [],
   "source": [
    "labels_text_only_df['labels'] = labels_text_only_df['labels'].apply(convert_labels)"
   ]
  },
  {
   "cell_type": "code",
   "execution_count": 25,
   "metadata": {
    "collapsed": false,
    "deletable": true,
    "editable": true
   },
   "outputs": [
    {
     "data": {
      "text/plain": [
       "not offensive    7274\n",
       "offensive        4836\n",
       "hate             2399\n",
       "Name: labels, dtype: int64"
      ]
     },
     "execution_count": 25,
     "metadata": {},
     "output_type": "execute_result"
    }
   ],
   "source": [
    "labels_text_only_df['labels'].value_counts()"
   ]
  },
  {
   "cell_type": "markdown",
   "metadata": {},
   "source": [
    "## Outputting Cleaned Data to New File"
   ]
  },
  {
   "cell_type": "code",
   "execution_count": 28,
   "metadata": {
    "collapsed": false,
    "deletable": true,
    "editable": true
   },
   "outputs": [],
   "source": [
    "labels_text_only_df.to_csv('../data/labels_tweets_only.csv',\n",
    "                           index=False)"
   ]
  }
 ],
 "metadata": {
  "anaconda-cloud": {},
  "kernelspec": {
   "display_name": "Python [default]",
   "language": "python",
   "name": "python2"
  },
  "language_info": {
   "codemirror_mode": {
    "name": "ipython",
    "version": 2
   },
   "file_extension": ".py",
   "mimetype": "text/x-python",
   "name": "python",
   "nbconvert_exporter": "python",
   "pygments_lexer": "ipython2",
   "version": "2.7.12"
  }
 },
 "nbformat": 4,
 "nbformat_minor": 1
}
